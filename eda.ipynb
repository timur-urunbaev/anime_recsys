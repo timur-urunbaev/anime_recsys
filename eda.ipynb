{
 "cells": [
  {
   "cell_type": "code",
   "execution_count": 1,
   "metadata": {},
   "outputs": [],
   "source": [
    "import os\n",
    "import datetime as dt\n",
    "\n",
    "from schemas import MAL_Schemas\n",
    "\n",
    "import polars as pl\n",
    "import pandas as pd\n",
    "import matplotlib.pyplot as plt"
   ]
  },
  {
   "cell_type": "code",
   "execution_count": 2,
   "metadata": {},
   "outputs": [],
   "source": [
    "# General information about anime\n",
    "df_anime = pl.read_csv(\n",
    "    'dataset/anime.csv',\n",
    "    schema_overrides=MAL_Schemas.anime(),\n",
    "    ignore_errors=True\n",
    ")\n",
    "\n",
    "# User-anime interaction data\n",
    "df_animelist = pl.read_csv(\n",
    "    'dataset/animelist.csv',\n",
    "    schema_overrides=MAL_Schemas.animelist()\n",
    ")\n",
    "\n",
    "# Subset of animelist, only watched fully anime, with rating != 0\n",
    "df_rating = pl.read_csv(\n",
    "    'dataset/rating_complete.csv',\n",
    "    schema_overrides=MAL_Schemas.rating()\n",
    ")\n",
    "\n",
    "# Name, Score, Genres, Synopsis of anime\n",
    "df_anime_with_synopsis = pl.read_csv(\n",
    "    'dataset/anime_with_synopsis.csv',\n",
    "    schema_overrides=MAL_Schemas.anime_with_synopsis(),\n",
    "    ignore_errors=True\n",
    ")\n",
    "\n",
    "# Watching status dictionary\n",
    "df_wathing_status = pl.read_csv(\n",
    "    'dataset/watching_status.csv',\n",
    "    schema_overrides=MAL_Schemas.watching_status()\n",
    ")"
   ]
  },
  {
   "cell_type": "code",
   "execution_count": 14,
   "metadata": {},
   "outputs": [
    {
     "data": {
      "text/html": [
       "<div><style>\n",
       ".dataframe > thead > tr,\n",
       ".dataframe > tbody > tr {\n",
       "  text-align: right;\n",
       "  white-space: pre-wrap;\n",
       "}\n",
       "</style>\n",
       "<small>shape: (17_562, 35)</small><table border=\"1\" class=\"dataframe\"><thead><tr><th>MAL_ID</th><th>Name</th><th>Score</th><th>Genres</th><th>English name</th><th>Japanese name</th><th>Type</th><th>Episodes</th><th>Aired</th><th>Premiered</th><th>Producers</th><th>Licensors</th><th>Studios</th><th>Source</th><th>Duration</th><th>Rating</th><th>Ranked</th><th>Popularity</th><th>Members</th><th>Favorites</th><th>Watching</th><th>Completed</th><th>On-Hold</th><th>Dropped</th><th>Plan to Watch</th><th>Score-10</th><th>Score-9</th><th>Score-8</th><th>Score-7</th><th>Score-6</th><th>Score-5</th><th>Score-4</th><th>Score-3</th><th>Score-2</th><th>Score-1</th></tr><tr><td>i64</td><td>str</td><td>f32</td><td>str</td><td>str</td><td>str</td><td>str</td><td>i64</td><td>str</td><td>str</td><td>str</td><td>str</td><td>str</td><td>str</td><td>str</td><td>str</td><td>f32</td><td>i64</td><td>i64</td><td>i64</td><td>i64</td><td>i64</td><td>i64</td><td>i64</td><td>i64</td><td>f32</td><td>f32</td><td>f32</td><td>f32</td><td>f32</td><td>f32</td><td>f32</td><td>f32</td><td>f32</td><td>f32</td></tr></thead><tbody><tr><td>1</td><td>&quot;Cowboy Bebop&quot;</td><td>8.78</td><td>&quot;Action, Adventure, Comedy, Dra…</td><td>&quot;Cowboy Bebop&quot;</td><td>&quot;カウボーイビバップ&quot;</td><td>&quot;TV&quot;</td><td>26</td><td>&quot;Apr 3, 1998 to Apr 24, 1999&quot;</td><td>&quot;Spring 1998&quot;</td><td>&quot;Bandai Visual&quot;</td><td>&quot;Funimation, Bandai Entertainme…</td><td>&quot;Sunrise&quot;</td><td>&quot;Original&quot;</td><td>&quot;24 min. per ep.&quot;</td><td>&quot;R - 17+ (violence &amp; profanity)&quot;</td><td>28.0</td><td>39</td><td>1251960</td><td>61971</td><td>105808</td><td>718161</td><td>71513</td><td>26678</td><td>329800</td><td>229170.0</td><td>182126.0</td><td>131625.0</td><td>62330.0</td><td>20688.0</td><td>8904.0</td><td>3184.0</td><td>1357.0</td><td>741.0</td><td>1580.0</td></tr><tr><td>5</td><td>&quot;Cowboy Bebop: Tengoku no Tobir…</td><td>8.39</td><td>&quot;Action, Drama, Mystery, Sci-Fi…</td><td>&quot;Cowboy Bebop:The Movie&quot;</td><td>&quot;カウボーイビバップ 天国の扉&quot;</td><td>&quot;Movie&quot;</td><td>1</td><td>&quot;Sep 1, 2001&quot;</td><td>&quot;Unknown&quot;</td><td>&quot;Sunrise, Bandai Visual&quot;</td><td>&quot;Sony Pictures Entertainment&quot;</td><td>&quot;Bones&quot;</td><td>&quot;Original&quot;</td><td>&quot;1 hr. 55 min.&quot;</td><td>&quot;R - 17+ (violence &amp; profanity)&quot;</td><td>159.0</td><td>518</td><td>273145</td><td>1174</td><td>4143</td><td>208333</td><td>1935</td><td>770</td><td>57964</td><td>30043.0</td><td>49201.0</td><td>49505.0</td><td>22632.0</td><td>5805.0</td><td>1877.0</td><td>577.0</td><td>221.0</td><td>109.0</td><td>379.0</td></tr><tr><td>6</td><td>&quot;Trigun&quot;</td><td>8.24</td><td>&quot;Action, Sci-Fi, Adventure, Com…</td><td>&quot;Trigun&quot;</td><td>&quot;トライガン&quot;</td><td>&quot;TV&quot;</td><td>26</td><td>&quot;Apr 1, 1998 to Sep 30, 1998&quot;</td><td>&quot;Spring 1998&quot;</td><td>&quot;Victor Entertainment&quot;</td><td>&quot;Funimation, Geneon Entertainme…</td><td>&quot;Madhouse&quot;</td><td>&quot;Manga&quot;</td><td>&quot;24 min. per ep.&quot;</td><td>&quot;PG-13 - Teens 13 or older&quot;</td><td>266.0</td><td>201</td><td>558913</td><td>12944</td><td>29113</td><td>343492</td><td>25465</td><td>13925</td><td>146918</td><td>50229.0</td><td>75651.0</td><td>86142.0</td><td>49432.0</td><td>15376.0</td><td>5838.0</td><td>1965.0</td><td>664.0</td><td>316.0</td><td>533.0</td></tr><tr><td>7</td><td>&quot;Witch Hunter Robin&quot;</td><td>7.27</td><td>&quot;Action, Mystery, Police, Super…</td><td>&quot;Witch Hunter Robin&quot;</td><td>&quot;Witch Hunter ROBIN (ウイッチハンターロビ…</td><td>&quot;TV&quot;</td><td>26</td><td>&quot;Jul 2, 2002 to Dec 24, 2002&quot;</td><td>&quot;Summer 2002&quot;</td><td>&quot;TV Tokyo, Bandai Visual, Dents…</td><td>&quot;Funimation, Bandai Entertainme…</td><td>&quot;Sunrise&quot;</td><td>&quot;Original&quot;</td><td>&quot;25 min. per ep.&quot;</td><td>&quot;PG-13 - Teens 13 or older&quot;</td><td>2481.0</td><td>1467</td><td>94683</td><td>587</td><td>4300</td><td>46165</td><td>5121</td><td>5378</td><td>33719</td><td>2182.0</td><td>4806.0</td><td>10128.0</td><td>11618.0</td><td>5709.0</td><td>2920.0</td><td>1083.0</td><td>353.0</td><td>164.0</td><td>131.0</td></tr><tr><td>8</td><td>&quot;Bouken Ou Beet&quot;</td><td>6.98</td><td>&quot;Adventure, Fantasy, Shounen, S…</td><td>&quot;Beet the Vandel Buster&quot;</td><td>&quot;冒険王ビィト&quot;</td><td>&quot;TV&quot;</td><td>52</td><td>&quot;Sep 30, 2004 to Sep 29, 2005&quot;</td><td>&quot;Fall 2004&quot;</td><td>&quot;TV Tokyo, Dentsu&quot;</td><td>&quot;Unknown&quot;</td><td>&quot;Toei Animation&quot;</td><td>&quot;Manga&quot;</td><td>&quot;23 min. per ep.&quot;</td><td>&quot;PG - Children&quot;</td><td>3710.0</td><td>4369</td><td>13224</td><td>18</td><td>642</td><td>7314</td><td>766</td><td>1108</td><td>3394</td><td>312.0</td><td>529.0</td><td>1242.0</td><td>1713.0</td><td>1068.0</td><td>634.0</td><td>265.0</td><td>83.0</td><td>50.0</td><td>27.0</td></tr><tr><td>&hellip;</td><td>&hellip;</td><td>&hellip;</td><td>&hellip;</td><td>&hellip;</td><td>&hellip;</td><td>&hellip;</td><td>&hellip;</td><td>&hellip;</td><td>&hellip;</td><td>&hellip;</td><td>&hellip;</td><td>&hellip;</td><td>&hellip;</td><td>&hellip;</td><td>&hellip;</td><td>&hellip;</td><td>&hellip;</td><td>&hellip;</td><td>&hellip;</td><td>&hellip;</td><td>&hellip;</td><td>&hellip;</td><td>&hellip;</td><td>&hellip;</td><td>&hellip;</td><td>&hellip;</td><td>&hellip;</td><td>&hellip;</td><td>&hellip;</td><td>&hellip;</td><td>&hellip;</td><td>&hellip;</td><td>&hellip;</td><td>&hellip;</td></tr><tr><td>48481</td><td>&quot;Daomu Biji Zhi Qinling Shen Sh…</td><td>null</td><td>&quot;Adventure, Mystery, Supernatur…</td><td>&quot;Unknown&quot;</td><td>&quot;盗墓笔记之秦岭神树&quot;</td><td>&quot;ONA&quot;</td><td>null</td><td>&quot;Apr 4, 2021 to ?&quot;</td><td>&quot;Unknown&quot;</td><td>&quot;Unknown&quot;</td><td>&quot;Unknown&quot;</td><td>&quot;Unknown&quot;</td><td>&quot;Novel&quot;</td><td>&quot;Unknown&quot;</td><td>&quot;Unknown&quot;</td><td>null</td><td>13116</td><td>354</td><td>6</td><td>0</td><td>0</td><td>0</td><td>0</td><td>354</td><td>null</td><td>null</td><td>null</td><td>1.0</td><td>null</td><td>null</td><td>null</td><td>null</td><td>null</td><td>null</td></tr><tr><td>48483</td><td>&quot;Mieruko-chan&quot;</td><td>null</td><td>&quot;Comedy, Horror, Supernatural&quot;</td><td>&quot;Unknown&quot;</td><td>&quot;見える子ちゃん&quot;</td><td>&quot;TV&quot;</td><td>null</td><td>&quot;2021 to ?&quot;</td><td>&quot;Unknown&quot;</td><td>&quot;Kadokawa&quot;</td><td>&quot;Unknown&quot;</td><td>&quot;Passione&quot;</td><td>&quot;Manga&quot;</td><td>&quot;Unknown&quot;</td><td>&quot;Unknown&quot;</td><td>null</td><td>17562</td><td>7010</td><td>70</td><td>14</td><td>0</td><td>14</td><td>0</td><td>6982</td><td>null</td><td>null</td><td>null</td><td>null</td><td>null</td><td>null</td><td>null</td><td>null</td><td>null</td><td>null</td></tr><tr><td>48488</td><td>&quot;Higurashi no Naku Koro ni Sots…</td><td>null</td><td>&quot;Mystery, Dementia, Horror, Psy…</td><td>&quot;Higurashi:When They Cry – SOTS…</td><td>&quot;ひぐらしのなく頃に卒&quot;</td><td>&quot;TV&quot;</td><td>null</td><td>&quot;Jul, 2021 to ?&quot;</td><td>&quot;Summer 2021&quot;</td><td>&quot;Unknown&quot;</td><td>&quot;Unknown&quot;</td><td>&quot;Unknown&quot;</td><td>&quot;Visual novel&quot;</td><td>&quot;Unknown&quot;</td><td>&quot;R - 17+ (violence &amp; profanity)&quot;</td><td>null</td><td>17558</td><td>11309</td><td>48</td><td>3</td><td>0</td><td>0</td><td>0</td><td>11306</td><td>1.0</td><td>null</td><td>null</td><td>null</td><td>null</td><td>null</td><td>null</td><td>null</td><td>null</td><td>null</td></tr><tr><td>48491</td><td>&quot;Yama no Susume: Next Summit&quot;</td><td>null</td><td>&quot;Adventure, Slice of Life, Come…</td><td>&quot;Unknown&quot;</td><td>&quot;ヤマノススメ Next Summit&quot;</td><td>&quot;TV&quot;</td><td>null</td><td>&quot;Unknown&quot;</td><td>&quot;Unknown&quot;</td><td>&quot;Kadokawa&quot;</td><td>&quot;Unknown&quot;</td><td>&quot;8bit&quot;</td><td>&quot;Manga&quot;</td><td>&quot;Unknown&quot;</td><td>&quot;PG-13 - Teens 13 or older&quot;</td><td>null</td><td>17565</td><td>1386</td><td>2</td><td>13</td><td>2</td><td>2</td><td>1</td><td>1368</td><td>null</td><td>null</td><td>null</td><td>null</td><td>null</td><td>null</td><td>null</td><td>null</td><td>null</td><td>null</td></tr><tr><td>48492</td><td>&quot;Scarlet Nexus&quot;</td><td>null</td><td>&quot;Action, Fantasy&quot;</td><td>&quot;Unknown&quot;</td><td>&quot;SCARLET NEXUS&quot;</td><td>&quot;TV&quot;</td><td>null</td><td>&quot;Jul, 2021 to ?&quot;</td><td>&quot;Summer 2021&quot;</td><td>&quot;Bandai Namco Arts&quot;</td><td>&quot;Unknown&quot;</td><td>&quot;Sunrise&quot;</td><td>&quot;Game&quot;</td><td>&quot;Unknown&quot;</td><td>&quot;Unknown&quot;</td><td>null</td><td>17563</td><td>310</td><td>0</td><td>4</td><td>0</td><td>1</td><td>1</td><td>304</td><td>null</td><td>null</td><td>null</td><td>null</td><td>null</td><td>null</td><td>null</td><td>null</td><td>null</td><td>null</td></tr></tbody></table></div>"
      ],
      "text/plain": [
       "shape: (17_562, 35)\n",
       "┌────────┬──────────────────┬───────┬──────────────────┬───┬─────────┬─────────┬─────────┬─────────┐\n",
       "│ MAL_ID ┆ Name             ┆ Score ┆ Genres           ┆ … ┆ Score-4 ┆ Score-3 ┆ Score-2 ┆ Score-1 │\n",
       "│ ---    ┆ ---              ┆ ---   ┆ ---              ┆   ┆ ---     ┆ ---     ┆ ---     ┆ ---     │\n",
       "│ i64    ┆ str              ┆ f32   ┆ str              ┆   ┆ f32     ┆ f32     ┆ f32     ┆ f32     │\n",
       "╞════════╪══════════════════╪═══════╪══════════════════╪═══╪═════════╪═════════╪═════════╪═════════╡\n",
       "│ 1      ┆ Cowboy Bebop     ┆ 8.78  ┆ Action,          ┆ … ┆ 3184.0  ┆ 1357.0  ┆ 741.0   ┆ 1580.0  │\n",
       "│        ┆                  ┆       ┆ Adventure,       ┆   ┆         ┆         ┆         ┆         │\n",
       "│        ┆                  ┆       ┆ Comedy, Dra…     ┆   ┆         ┆         ┆         ┆         │\n",
       "│ 5      ┆ Cowboy Bebop:    ┆ 8.39  ┆ Action, Drama,   ┆ … ┆ 577.0   ┆ 221.0   ┆ 109.0   ┆ 379.0   │\n",
       "│        ┆ Tengoku no       ┆       ┆ Mystery, Sci-Fi… ┆   ┆         ┆         ┆         ┆         │\n",
       "│        ┆ Tobir…           ┆       ┆                  ┆   ┆         ┆         ┆         ┆         │\n",
       "│ 6      ┆ Trigun           ┆ 8.24  ┆ Action, Sci-Fi,  ┆ … ┆ 1965.0  ┆ 664.0   ┆ 316.0   ┆ 533.0   │\n",
       "│        ┆                  ┆       ┆ Adventure, Com…  ┆   ┆         ┆         ┆         ┆         │\n",
       "│ 7      ┆ Witch Hunter     ┆ 7.27  ┆ Action, Mystery, ┆ … ┆ 1083.0  ┆ 353.0   ┆ 164.0   ┆ 131.0   │\n",
       "│        ┆ Robin            ┆       ┆ Police, Super…   ┆   ┆         ┆         ┆         ┆         │\n",
       "│ 8      ┆ Bouken Ou Beet   ┆ 6.98  ┆ Adventure,       ┆ … ┆ 265.0   ┆ 83.0    ┆ 50.0    ┆ 27.0    │\n",
       "│        ┆                  ┆       ┆ Fantasy,         ┆   ┆         ┆         ┆         ┆         │\n",
       "│        ┆                  ┆       ┆ Shounen, S…      ┆   ┆         ┆         ┆         ┆         │\n",
       "│ …      ┆ …                ┆ …     ┆ …                ┆ … ┆ …       ┆ …       ┆ …       ┆ …       │\n",
       "│ 48481  ┆ Daomu Biji Zhi   ┆ null  ┆ Adventure,       ┆ … ┆ null    ┆ null    ┆ null    ┆ null    │\n",
       "│        ┆ Qinling Shen Sh… ┆       ┆ Mystery,         ┆   ┆         ┆         ┆         ┆         │\n",
       "│        ┆                  ┆       ┆ Supernatur…      ┆   ┆         ┆         ┆         ┆         │\n",
       "│ 48483  ┆ Mieruko-chan     ┆ null  ┆ Comedy, Horror,  ┆ … ┆ null    ┆ null    ┆ null    ┆ null    │\n",
       "│        ┆                  ┆       ┆ Supernatural     ┆   ┆         ┆         ┆         ┆         │\n",
       "│ 48488  ┆ Higurashi no     ┆ null  ┆ Mystery,         ┆ … ┆ null    ┆ null    ┆ null    ┆ null    │\n",
       "│        ┆ Naku Koro ni     ┆       ┆ Dementia,        ┆   ┆         ┆         ┆         ┆         │\n",
       "│        ┆ Sots…            ┆       ┆ Horror, Psy…     ┆   ┆         ┆         ┆         ┆         │\n",
       "│ 48491  ┆ Yama no Susume:  ┆ null  ┆ Adventure, Slice ┆ … ┆ null    ┆ null    ┆ null    ┆ null    │\n",
       "│        ┆ Next Summit      ┆       ┆ of Life, Come…   ┆   ┆         ┆         ┆         ┆         │\n",
       "│ 48492  ┆ Scarlet Nexus    ┆ null  ┆ Action, Fantasy  ┆ … ┆ null    ┆ null    ┆ null    ┆ null    │\n",
       "└────────┴──────────────────┴───────┴──────────────────┴───┴─────────┴─────────┴─────────┴─────────┘"
      ]
     },
     "execution_count": 14,
     "metadata": {},
     "output_type": "execute_result"
    }
   ],
   "source": [
    "df_anime"
   ]
  },
  {
   "cell_type": "code",
   "execution_count": 15,
   "metadata": {},
   "outputs": [
    {
     "data": {
      "text/html": [
       "<div><style>\n",
       ".dataframe > thead > tr,\n",
       ".dataframe > tbody > tr {\n",
       "  text-align: right;\n",
       "  white-space: pre-wrap;\n",
       "}\n",
       "</style>\n",
       "<small>shape: (109_224_747, 5)</small><table border=\"1\" class=\"dataframe\"><thead><tr><th>user_id</th><th>anime_id</th><th>rating</th><th>watching_status</th><th>watched_episodes</th></tr><tr><td>i64</td><td>i64</td><td>i64</td><td>i64</td><td>i64</td></tr></thead><tbody><tr><td>0</td><td>67</td><td>9</td><td>1</td><td>1</td></tr><tr><td>0</td><td>6702</td><td>7</td><td>1</td><td>4</td></tr><tr><td>0</td><td>242</td><td>10</td><td>1</td><td>4</td></tr><tr><td>0</td><td>4898</td><td>0</td><td>1</td><td>1</td></tr><tr><td>0</td><td>21</td><td>10</td><td>1</td><td>0</td></tr><tr><td>&hellip;</td><td>&hellip;</td><td>&hellip;</td><td>&hellip;</td><td>&hellip;</td></tr><tr><td>353404</td><td>507</td><td>7</td><td>2</td><td>2</td></tr><tr><td>353404</td><td>392</td><td>9</td><td>2</td><td>112</td></tr><tr><td>353404</td><td>882</td><td>6</td><td>2</td><td>1</td></tr><tr><td>353404</td><td>883</td><td>8</td><td>2</td><td>1</td></tr><tr><td>353404</td><td>149</td><td>0</td><td>6</td><td>0</td></tr></tbody></table></div>"
      ],
      "text/plain": [
       "shape: (109_224_747, 5)\n",
       "┌─────────┬──────────┬────────┬─────────────────┬──────────────────┐\n",
       "│ user_id ┆ anime_id ┆ rating ┆ watching_status ┆ watched_episodes │\n",
       "│ ---     ┆ ---      ┆ ---    ┆ ---             ┆ ---              │\n",
       "│ i64     ┆ i64      ┆ i64    ┆ i64             ┆ i64              │\n",
       "╞═════════╪══════════╪════════╪═════════════════╪══════════════════╡\n",
       "│ 0       ┆ 67       ┆ 9      ┆ 1               ┆ 1                │\n",
       "│ 0       ┆ 6702     ┆ 7      ┆ 1               ┆ 4                │\n",
       "│ 0       ┆ 242      ┆ 10     ┆ 1               ┆ 4                │\n",
       "│ 0       ┆ 4898     ┆ 0      ┆ 1               ┆ 1                │\n",
       "│ 0       ┆ 21       ┆ 10     ┆ 1               ┆ 0                │\n",
       "│ …       ┆ …        ┆ …      ┆ …               ┆ …                │\n",
       "│ 353404  ┆ 507      ┆ 7      ┆ 2               ┆ 2                │\n",
       "│ 353404  ┆ 392      ┆ 9      ┆ 2               ┆ 112              │\n",
       "│ 353404  ┆ 882      ┆ 6      ┆ 2               ┆ 1                │\n",
       "│ 353404  ┆ 883      ┆ 8      ┆ 2               ┆ 1                │\n",
       "│ 353404  ┆ 149      ┆ 0      ┆ 6               ┆ 0                │\n",
       "└─────────┴──────────┴────────┴─────────────────┴──────────────────┘"
      ]
     },
     "execution_count": 15,
     "metadata": {},
     "output_type": "execute_result"
    }
   ],
   "source": [
    "df_animelist"
   ]
  },
  {
   "cell_type": "code",
   "execution_count": 9,
   "metadata": {},
   "outputs": [
    {
     "name": "stdout",
     "output_type": "stream",
     "text": [
      "['MAL_ID', 'Name', 'Score', 'Genres', 'sypnopsis']\n"
     ]
    }
   ],
   "source": [
    "print(df_anime_with_synopsis.columns)"
   ]
  },
  {
   "cell_type": "code",
   "execution_count": 11,
   "metadata": {},
   "outputs": [
    {
     "name": "stdout",
     "output_type": "stream",
     "text": [
      "['user_id', 'anime_id', 'rating']\n"
     ]
    }
   ],
   "source": [
    "print(df_rating.columns)"
   ]
  },
  {
   "cell_type": "code",
   "execution_count": 13,
   "metadata": {},
   "outputs": [
    {
     "name": "stdout",
     "output_type": "stream",
     "text": [
      "['status', ' description']\n"
     ]
    }
   ],
   "source": [
    "print(df_wathing_status.columns)"
   ]
  },
  {
   "cell_type": "code",
   "execution_count": 4,
   "metadata": {},
   "outputs": [
    {
     "data": {
      "text/html": [
       "<div><style>\n",
       ".dataframe > thead > tr,\n",
       ".dataframe > tbody > tr {\n",
       "  text-align: right;\n",
       "  white-space: pre-wrap;\n",
       "}\n",
       "</style>\n",
       "<small>shape: (9, 36)</small><table border=\"1\" class=\"dataframe\"><thead><tr><th>statistic</th><th>MAL_ID</th><th>Name</th><th>Score</th><th>Genres</th><th>English name</th><th>Japanese name</th><th>Type</th><th>Episodes</th><th>Aired</th><th>Premiered</th><th>Producers</th><th>Licensors</th><th>Studios</th><th>Source</th><th>Duration</th><th>Rating</th><th>Ranked</th><th>Popularity</th><th>Members</th><th>Favorites</th><th>Watching</th><th>Completed</th><th>On-Hold</th><th>Dropped</th><th>Plan to Watch</th><th>Score-10</th><th>Score-9</th><th>Score-8</th><th>Score-7</th><th>Score-6</th><th>Score-5</th><th>Score-4</th><th>Score-3</th><th>Score-2</th><th>Score-1</th></tr><tr><td>str</td><td>f64</td><td>str</td><td>f64</td><td>str</td><td>str</td><td>str</td><td>str</td><td>f64</td><td>str</td><td>str</td><td>str</td><td>str</td><td>str</td><td>str</td><td>str</td><td>str</td><td>f64</td><td>f64</td><td>f64</td><td>f64</td><td>f64</td><td>f64</td><td>f64</td><td>f64</td><td>f64</td><td>f64</td><td>f64</td><td>f64</td><td>f64</td><td>f64</td><td>f64</td><td>f64</td><td>f64</td><td>f64</td><td>f64</td></tr></thead><tbody><tr><td>&quot;count&quot;</td><td>17562.0</td><td>&quot;17562&quot;</td><td>12421.0</td><td>&quot;17562&quot;</td><td>&quot;17562&quot;</td><td>&quot;17562&quot;</td><td>&quot;17562&quot;</td><td>17046.0</td><td>&quot;17562&quot;</td><td>&quot;17562&quot;</td><td>&quot;17562&quot;</td><td>&quot;17562&quot;</td><td>&quot;17562&quot;</td><td>&quot;17562&quot;</td><td>&quot;17562&quot;</td><td>&quot;17562&quot;</td><td>15800.0</td><td>17562.0</td><td>17562.0</td><td>17562.0</td><td>17562.0</td><td>17562.0</td><td>17562.0</td><td>17562.0</td><td>17562.0</td><td>17125.0</td><td>14395.0</td><td>16191.0</td><td>17059.0</td><td>17051.0</td><td>16978.0</td><td>16585.0</td><td>16255.0</td><td>15965.0</td><td>17103.0</td></tr><tr><td>&quot;null_count&quot;</td><td>0.0</td><td>&quot;0&quot;</td><td>5141.0</td><td>&quot;0&quot;</td><td>&quot;0&quot;</td><td>&quot;0&quot;</td><td>&quot;0&quot;</td><td>516.0</td><td>&quot;0&quot;</td><td>&quot;0&quot;</td><td>&quot;0&quot;</td><td>&quot;0&quot;</td><td>&quot;0&quot;</td><td>&quot;0&quot;</td><td>&quot;0&quot;</td><td>&quot;0&quot;</td><td>1762.0</td><td>0.0</td><td>0.0</td><td>0.0</td><td>0.0</td><td>0.0</td><td>0.0</td><td>0.0</td><td>0.0</td><td>437.0</td><td>3167.0</td><td>1371.0</td><td>503.0</td><td>511.0</td><td>584.0</td><td>977.0</td><td>1307.0</td><td>1597.0</td><td>459.0</td></tr><tr><td>&quot;mean&quot;</td><td>21477.192347</td><td>null</td><td>6.509999</td><td>null</td><td>null</td><td>null</td><td>null</td><td>11.525519</td><td>null</td><td>null</td><td>null</td><td>null</td><td>null</td><td>null</td><td>null</td><td>null</td><td>7895.209961</td><td>8763.45234</td><td>34658.539517</td><td>457.74627</td><td>2231.487758</td><td>22095.571347</td><td>955.049653</td><td>1176.599533</td><td>8199.831227</td><td>2546.182617</td><td>3905.437012</td><td>4846.905273</td><td>3997.244385</td><td>1964.125732</td><td>990.303955</td><td>453.539154</td><td>212.773544</td><td>128.395233</td><td>123.075249</td></tr><tr><td>&quot;std&quot;</td><td>14900.09317</td><td>null</td><td>0.886717</td><td>null</td><td>null</td><td>null</td><td>null</td><td>47.34864</td><td>null</td><td>null</td><td>null</td><td>null</td><td>null</td><td>null</td><td>null</td><td>null</td><td>4557.318359</td><td>5059.327278</td><td>125282.141428</td><td>4063.473313</td><td>14046.688133</td><td>91009.188504</td><td>4275.675096</td><td>4740.348653</td><td>23777.691963</td><td>17081.839844</td><td>19891.722656</td><td>20597.992188</td><td>14275.126953</td><td>6462.018555</td><td>3256.272461</td><td>1748.658936</td><td>877.018372</td><td>573.74176</td><td>674.672913</td></tr><tr><td>&quot;min&quot;</td><td>1.0</td><td>&quot;&quot;0&quot;&quot;</td><td>1.85</td><td>&quot;Action&quot;</td><td>&quot;&quot;Parade&quot; de Satie&quot;</td><td>&quot;&quot;STAR&quot;T&quot;</td><td>&quot;Movie&quot;</td><td>1.0</td><td>&quot;1917&quot;</td><td>&quot;Fall 1963&quot;</td><td>&quot;5pb.&quot;</td><td>&quot;4Kids Entertainment&quot;</td><td>&quot;10Gauge&quot;</td><td>&quot;4-koma manga&quot;</td><td>&quot;1 hr.&quot;</td><td>&quot;G - All Ages&quot;</td><td>0.0</td><td>0.0</td><td>1.0</td><td>0.0</td><td>0.0</td><td>0.0</td><td>0.0</td><td>0.0</td><td>1.0</td><td>1.0</td><td>1.0</td><td>1.0</td><td>1.0</td><td>1.0</td><td>1.0</td><td>1.0</td><td>1.0</td><td>1.0</td><td>1.0</td></tr><tr><td>&quot;25%&quot;</td><td>5953.0</td><td>null</td><td>5.93</td><td>null</td><td>null</td><td>null</td><td>null</td><td>1.0</td><td>null</td><td>null</td><td>null</td><td>null</td><td>null</td><td>null</td><td>null</td><td>null</td><td>3944.0</td><td>4383.0</td><td>336.0</td><td>0.0</td><td>13.0</td><td>111.0</td><td>6.0</td><td>37.0</td><td>112.0</td><td>7.0</td><td>7.0</td><td>7.0</td><td>12.0</td><td>16.0</td><td>19.0</td><td>10.0</td><td>7.0</td><td>5.0</td><td>6.0</td></tr><tr><td>&quot;50%&quot;</td><td>22821.0</td><td>null</td><td>6.52</td><td>null</td><td>null</td><td>null</td><td>null</td><td>2.0</td><td>null</td><td>null</td><td>null</td><td>null</td><td>null</td><td>null</td><td>null</td><td>null</td><td>7896.0</td><td>8765.0</td><td>2065.0</td><td>3.0</td><td>73.0</td><td>818.0</td><td>45.0</td><td>77.0</td><td>753.0</td><td>39.0</td><td>71.0</td><td>92.0</td><td>140.0</td><td>144.0</td><td>111.0</td><td>50.0</td><td>27.0</td><td>18.0</td><td>16.0</td></tr><tr><td>&quot;75%&quot;</td><td>35625.0</td><td>null</td><td>7.14</td><td>null</td><td>null</td><td>null</td><td>null</td><td>12.0</td><td>null</td><td>null</td><td>null</td><td>null</td><td>null</td><td>null</td><td>null</td><td>null</td><td>11845.0</td><td>13145.0</td><td>13224.0</td><td>31.0</td><td>522.0</td><td>6478.0</td><td>292.0</td><td>271.0</td><td>4138.0</td><td>381.0</td><td>735.0</td><td>1073.0</td><td>1371.0</td><td>911.0</td><td>529.0</td><td>213.0</td><td>104.0</td><td>63.0</td><td>56.0</td></tr><tr><td>&quot;max&quot;</td><td>48492.0</td><td>&quot;◯&quot;</td><td>9.19</td><td>&quot;Yaoi&quot;</td><td>&quot;∀ Gundam II:Moonlight Butterfl…</td><td>&quot;ｳｻｷﾞとｶﾒ&quot;</td><td>&quot;Unknown&quot;</td><td>3057.0</td><td>&quot;Unknown&quot;</td><td>&quot;Winter 2021&quot;</td><td>&quot;syn Sophia&quot;</td><td>&quot;iQIYI&quot;</td><td>&quot;ufotable, feel., Studio Flag&quot;</td><td>&quot;Web manga&quot;</td><td>&quot;Unknown&quot;</td><td>&quot;Unknown&quot;</td><td>15780.0</td><td>17565.0</td><td>2.589552e6</td><td>183914.0</td><td>887333.0</td><td>2.182587e6</td><td>187919.0</td><td>174710.0</td><td>425531.0</td><td>714811.0</td><td>535252.0</td><td>459113.0</td><td>303813.0</td><td>188431.0</td><td>124819.0</td><td>81155.0</td><td>44204.0</td><td>25371.0</td><td>33750.0</td></tr></tbody></table></div>"
      ],
      "text/plain": [
       "shape: (9, 36)\n",
       "┌────────────┬────────────┬───────┬──────────┬───┬────────────┬────────────┬───────────┬───────────┐\n",
       "│ statistic  ┆ MAL_ID     ┆ Name  ┆ Score    ┆ … ┆ Score-4    ┆ Score-3    ┆ Score-2   ┆ Score-1   │\n",
       "│ ---        ┆ ---        ┆ ---   ┆ ---      ┆   ┆ ---        ┆ ---        ┆ ---       ┆ ---       │\n",
       "│ str        ┆ f64        ┆ str   ┆ f64      ┆   ┆ f64        ┆ f64        ┆ f64       ┆ f64       │\n",
       "╞════════════╪════════════╪═══════╪══════════╪═══╪════════════╪════════════╪═══════════╪═══════════╡\n",
       "│ count      ┆ 17562.0    ┆ 17562 ┆ 12421.0  ┆ … ┆ 16585.0    ┆ 16255.0    ┆ 15965.0   ┆ 17103.0   │\n",
       "│ null_count ┆ 0.0        ┆ 0     ┆ 5141.0   ┆ … ┆ 977.0      ┆ 1307.0     ┆ 1597.0    ┆ 459.0     │\n",
       "│ mean       ┆ 21477.1923 ┆ null  ┆ 6.509999 ┆ … ┆ 453.539154 ┆ 212.773544 ┆ 128.39523 ┆ 123.07524 │\n",
       "│            ┆ 47         ┆       ┆          ┆   ┆            ┆            ┆ 3         ┆ 9         │\n",
       "│ std        ┆ 14900.0931 ┆ null  ┆ 0.886717 ┆ … ┆ 1748.65893 ┆ 877.018372 ┆ 573.74176 ┆ 674.67291 │\n",
       "│            ┆ 7          ┆       ┆          ┆   ┆ 6          ┆            ┆           ┆ 3         │\n",
       "│ min        ┆ 1.0        ┆ \"0\"   ┆ 1.85     ┆ … ┆ 1.0        ┆ 1.0        ┆ 1.0       ┆ 1.0       │\n",
       "│ 25%        ┆ 5953.0     ┆ null  ┆ 5.93     ┆ … ┆ 10.0       ┆ 7.0        ┆ 5.0       ┆ 6.0       │\n",
       "│ 50%        ┆ 22821.0    ┆ null  ┆ 6.52     ┆ … ┆ 50.0       ┆ 27.0       ┆ 18.0      ┆ 16.0      │\n",
       "│ 75%        ┆ 35625.0    ┆ null  ┆ 7.14     ┆ … ┆ 213.0      ┆ 104.0      ┆ 63.0      ┆ 56.0      │\n",
       "│ max        ┆ 48492.0    ┆ ◯     ┆ 9.19     ┆ … ┆ 81155.0    ┆ 44204.0    ┆ 25371.0   ┆ 33750.0   │\n",
       "└────────────┴────────────┴───────┴──────────┴───┴────────────┴────────────┴───────────┴───────────┘"
      ]
     },
     "execution_count": 4,
     "metadata": {},
     "output_type": "execute_result"
    }
   ],
   "source": [
    "df_anime.describe()"
   ]
  }
 ],
 "metadata": {
  "kernelspec": {
   "display_name": "project-recommendations-5L7fO9dy-py3.13",
   "language": "python",
   "name": "python3"
  },
  "language_info": {
   "codemirror_mode": {
    "name": "ipython",
    "version": 3
   },
   "file_extension": ".py",
   "mimetype": "text/x-python",
   "name": "python",
   "nbconvert_exporter": "python",
   "pygments_lexer": "ipython3",
   "version": "3.13.0"
  }
 },
 "nbformat": 4,
 "nbformat_minor": 2
}
