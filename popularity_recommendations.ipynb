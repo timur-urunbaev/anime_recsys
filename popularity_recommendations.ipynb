{
 "cells": [
  {
   "cell_type": "code",
   "execution_count": 1,
   "metadata": {},
   "outputs": [],
   "source": [
    "from schemas import MAL_Schemas\n",
    "\n",
    "import polars as pl\n",
    "import pandas as pd\n",
    "from sklearn.model_selection import train_test_split"
   ]
  },
  {
   "cell_type": "code",
   "execution_count": 2,
   "metadata": {},
   "outputs": [],
   "source": [
    "# Load datasets\n",
    "def load_datasets():\n",
    "    animelist = pl.read_csv(\n",
    "        'dataset/animelist.csv',\n",
    "        schema=MAL_Schemas.animelist(),\n",
    "        ignore_errors=True\n",
    "    )\n",
    "    anime = pl.read_csv(\n",
    "        'dataset/anime.csv',\n",
    "        schema=MAL_Schemas.anime(),\n",
    "        ignore_errors=True\n",
    "    )\n",
    "    return animelist, anime\n",
    "\n",
    "# Basic Preprocessing\n",
    "def preprocess_data(animelist):\n",
    "    # Filter out ratings of 0 (if present)\n",
    "    animelist = animelist.filter(pl.col(\"rating\") > 0)\n",
    "    return animelist\n",
    "\n",
    "# Split data into train and test sets\n",
    "def split_data(animelist):\n",
    "    df = animelist.to_pandas()\n",
    "    train, test = train_test_split(df, test_size=0.2, random_state=42)\n",
    "    return train, test"
   ]
  },
  {
   "cell_type": "code",
   "execution_count": 3,
   "metadata": {},
   "outputs": [],
   "source": [
    "# Create a popularity-based baseline model\n",
    "def popularity_recommendation(train, anime, top_n=10):\n",
    "    # Calculate mean rating for each anime\n",
    "    anime_popularity = (\n",
    "        train.groupby(\"anime_id\")[\"rating\"].mean()\n",
    "        .reset_index()\n",
    "        .rename(columns={\"rating\": \"mean_rating\"})\n",
    "    )\n",
    "    \n",
    "    # Merge with anime metadata for better readability\n",
    "    anime_popularity = anime_popularity.merge(\n",
    "        anime.to_pandas(),\n",
    "        left_on=\"anime_id\",\n",
    "        right_on=\"MAL_ID\",\n",
    "        how=\"left\"\n",
    "    ).sort_values(by=\"mean_rating\", ascending=False)\n",
    "\n",
    "    # Select top N recommendations\n",
    "    top_anime = anime_popularity[[\"Name\", \"mean_rating\", \"Genres\"]].head(top_n)\n",
    "    return top_anime"
   ]
  },
  {
   "cell_type": "code",
   "execution_count": null,
   "metadata": {},
   "outputs": [],
   "source": [
    "animelist, anime = load_datasets()\n",
    "animelist = preprocess_data(animelist)\n",
    "train, test = split_data(animelist)\n",
    "\n",
    "# Generate Top-N Recommendations\n",
    "top_recommendations = popularity_recommendation(train, anime)\n",
    "print(\"Top Recommendations:\")\n",
    "print(top_recommendations)"
   ]
  },
  {
   "cell_type": "code",
   "execution_count": null,
   "metadata": {},
   "outputs": [],
   "source": []
  },
  {
   "cell_type": "code",
   "execution_count": null,
   "metadata": {},
   "outputs": [],
   "source": []
  },
  {
   "cell_type": "code",
   "execution_count": null,
   "metadata": {},
   "outputs": [],
   "source": []
  }
 ],
 "metadata": {
  "kernelspec": {
   "display_name": "project-recommendations-5L7fO9dy-py3.13",
   "language": "python",
   "name": "python3"
  },
  "language_info": {
   "codemirror_mode": {
    "name": "ipython",
    "version": 3
   },
   "file_extension": ".py",
   "mimetype": "text/x-python",
   "name": "python",
   "nbconvert_exporter": "python",
   "pygments_lexer": "ipython3",
   "version": "3.13.0"
  }
 },
 "nbformat": 4,
 "nbformat_minor": 2
}
